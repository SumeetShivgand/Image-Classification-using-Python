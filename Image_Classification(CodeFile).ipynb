{
 "cells": [
  {
   "cell_type": "markdown",
   "metadata": {},
   "source": [
    "#### Sumeet Shivgand\n",
    "#### R00182850\n",
    "#### Assignment 3"
   ]
  },
  {
   "cell_type": "code",
   "execution_count": 1,
   "metadata": {},
   "outputs": [],
   "source": [
    "import numpy as np\n",
    "import pandas as pd \n",
    "import glob,cv2,os\n",
    "import random\n",
    "import seaborn as sns\n",
    "from sklearn.metrics import classification_report, confusion_matrix, accuracy_score\n",
    "import itertools\n",
    "import matplotlib.pyplot as plt\n",
    "%matplotlib inline\n",
    "\n",
    "import warnings\n",
    "warnings.filterwarnings(\"ignore\")"
   ]
  },
  {
   "cell_type": "code",
   "execution_count": 23,
   "metadata": {},
   "outputs": [
    {
     "name": "stdout",
     "output_type": "stream",
     "text": [
      "100  image data retreived\n",
      "200  image data retreived\n",
      "300  image data retreived\n",
      "400  image data retreived\n",
      "500  image data retreived\n",
      "600  image data retreived\n",
      "700  image data retreived\n",
      "800  image data retreived\n",
      "900  image data retreived\n",
      "1000  image data retreived\n",
      "(1002, 12288)\n",
      "(1002,)\n"
     ]
    }
   ],
   "source": [
    "label=[]\n",
    "data=[]\n",
    "counter=0\n",
    "image_size = (64,64)\n",
    "\n",
    "# Read the train directory from local system\n",
    "path=\"D:\\\\CIT\\\\Semester 2\\\\Applied Machine Learning\\\\Assignment 3\\\\Project3_files\\\\Project3_files\\\\data\\\\train\"\n",
    "for file in os.listdir(path):\n",
    "    # read the image using openCv\n",
    "    image_data=cv2.imread(os.path.join(path,file))\n",
    "    # resizing the images into equal sizes\n",
    "    image_data=cv2.resize(image_data,image_size).flatten()\n",
    "    if file.startswith(\"cat\"):\n",
    "        label.append(0)\n",
    "    elif file.startswith(\"dog\"):\n",
    "        label.append(1)\n",
    "    try:\n",
    "        data.append(image_data/255)\n",
    "    except:\n",
    "        label=label[:len(label)-1]\n",
    "    counter+=1\n",
    "    if counter%100==0:\n",
    "        print (counter,\" image data retreived\")\n",
    "\n",
    "# Converted the data into array\n",
    "data=np.array(data)\n",
    "label=np.array(label)\n",
    "print (data.shape)\n",
    "print (label.shape)"
   ]
  },
  {
   "cell_type": "code",
   "execution_count": 24,
   "metadata": {},
   "outputs": [
    {
     "data": {
      "text/plain": [
       "1    501\n",
       "0    501\n",
       "dtype: int64"
      ]
     },
     "execution_count": 24,
     "metadata": {},
     "output_type": "execute_result"
    },
    {
     "data": {
      "image/png": "[encoded data removed]",
      "text/plain": [
       "<Figure size 432x288 with 1 Axes>"
      ]
     },
     "metadata": {
      "needs_background": "light"
     },
     "output_type": "display_data"
    }
   ],
   "source": [
    "sns.countplot(label)\n",
    "pd.Series(label).value_counts()"
   ]
  },
  {
   "cell_type": "code",
   "execution_count": 25,
   "metadata": {},
   "outputs": [],
   "source": [
    "from sklearn.model_selection import train_test_split\n",
    "train_data, valid_data, train_label, valid_label = train_test_split(data, label, test_size=0.25, random_state=42)\n",
    "#print(train_data)\n",
    "#print(train_label)\n",
    "#print(valid_data)\n",
    "#print(valid_label)\n",
    "#print(np.count_nonzero(train_label == 1))\n",
    "#print(np.count_nonzero(train_label == 0))\n",
    "#print(np.count_nonzero(valid_label == 1))\n",
    "#print(np.count_nonzero(valid_label == 0))"
   ]
  },
  {
   "cell_type": "code",
   "execution_count": 26,
   "metadata": {},
   "outputs": [
    {
     "data": {
      "text/plain": [
       "0    378\n",
       "1    373\n",
       "dtype: int64"
      ]
     },
     "execution_count": 26,
     "metadata": {},
     "output_type": "execute_result"
    },
    {
     "data": {
      "image/png": "[encoded data removed]",
      "text/plain": [
       "<Figure size 432x288 with 1 Axes>"
      ]
     },
     "metadata": {
      "needs_background": "light"
     },
     "output_type": "display_data"
    }
   ],
   "source": [
    "sns.countplot(train_label)\n",
    "pd.Series(train_label).value_counts()"
   ]
  },
  {
   "cell_type": "code",
   "execution_count": 27,
   "metadata": {},
   "outputs": [
    {
     "name": "stdout",
     "output_type": "stream",
     "text": [
      "Accuracy Score: \n",
      " 0.545816733067729\n",
      "              precision    recall  f1-score   support\n",
      "\n",
      "           0       0.52      0.85      0.65       123\n",
      "           1       0.64      0.25      0.36       128\n",
      "\n",
      "    accuracy                           0.55       251\n",
      "   macro avg       0.58      0.55      0.50       251\n",
      "weighted avg       0.58      0.55      0.50       251\n",
      "\n"
     ]
    },
    {
     "data": {
      "text/html": [
       "<div>\n",
       "<style scoped>\n",
       "    .dataframe tbody tr th:only-of-type {\n",
       "        vertical-align: middle;\n",
       "    }\n",
       "\n",
       "    .dataframe tbody tr th {\n",
       "        vertical-align: top;\n",
       "    }\n",
       "\n",
       "    .dataframe thead th {\n",
       "        text-align: right;\n",
       "    }\n",
       "</style>\n",
       "<table border=\"1\" class=\"dataframe\">\n",
       "  <thead>\n",
       "    <tr style=\"text-align: right;\">\n",
       "      <th></th>\n",
       "      <th>Predicted 0</th>\n",
       "      <th>Predicted 1</th>\n",
       "    </tr>\n",
       "  </thead>\n",
       "  <tbody>\n",
       "    <tr>\n",
       "      <th>Actual 0</th>\n",
       "      <td>105</td>\n",
       "      <td>18</td>\n",
       "    </tr>\n",
       "    <tr>\n",
       "      <th>Actual 1</th>\n",
       "      <td>96</td>\n",
       "      <td>32</td>\n",
       "    </tr>\n",
       "  </tbody>\n",
       "</table>\n",
       "</div>"
      ],
      "text/plain": [
       "          Predicted 0  Predicted 1\n",
       "Actual 0          105           18\n",
       "Actual 1           96           32"
      ]
     },
     "execution_count": 27,
     "metadata": {},
     "output_type": "execute_result"
    }
   ],
   "source": [
    "from sklearn.neighbors import KNeighborsClassifier\n",
    "knn = KNeighborsClassifier()\n",
    "knn.fit(train_data, train_label)\n",
    "pred = knn.predict(valid_data)\n",
    "\n",
    "# Accuracy of the model\n",
    "print('Accuracy Score: \\n', accuracy_score(valid_label, pred))\n",
    "\n",
    "# Evaluation Metrics: Classification report\n",
    "print(classification_report(valid_label, pred))\n",
    "\n",
    "# Evaluation Metrics: Confusion Marix\n",
    "confusion_test = confusion_matrix(valid_label, pred)\n",
    "pd.DataFrame(data = confusion_test, columns = ['Predicted 0', 'Predicted 1'],\n",
    "            index = ['Actual 0', 'Actual 1'])\n"
   ]
  },
  {
   "cell_type": "code",
   "execution_count": 28,
   "metadata": {},
   "outputs": [
    {
     "name": "stdout",
     "output_type": "stream",
     "text": [
      "Accuracy Score: \n",
      " 0.6254980079681275\n",
      "              precision    recall  f1-score   support\n",
      "\n",
      "           0       0.63      0.59      0.61       123\n",
      "           1       0.62      0.66      0.64       128\n",
      "\n",
      "    accuracy                           0.63       251\n",
      "   macro avg       0.63      0.62      0.62       251\n",
      "weighted avg       0.63      0.63      0.62       251\n",
      "\n"
     ]
    },
    {
     "data": {
      "text/html": [
       "<div>\n",
       "<style scoped>\n",
       "    .dataframe tbody tr th:only-of-type {\n",
       "        vertical-align: middle;\n",
       "    }\n",
       "\n",
       "    .dataframe tbody tr th {\n",
       "        vertical-align: top;\n",
       "    }\n",
       "\n",
       "    .dataframe thead th {\n",
       "        text-align: right;\n",
       "    }\n",
       "</style>\n",
       "<table border=\"1\" class=\"dataframe\">\n",
       "  <thead>\n",
       "    <tr style=\"text-align: right;\">\n",
       "      <th></th>\n",
       "      <th>Predicted 0</th>\n",
       "      <th>Predicted 1</th>\n",
       "    </tr>\n",
       "  </thead>\n",
       "  <tbody>\n",
       "    <tr>\n",
       "      <th>Actual 0</th>\n",
       "      <td>72</td>\n",
       "      <td>51</td>\n",
       "    </tr>\n",
       "    <tr>\n",
       "      <th>Actual 1</th>\n",
       "      <td>43</td>\n",
       "      <td>85</td>\n",
       "    </tr>\n",
       "  </tbody>\n",
       "</table>\n",
       "</div>"
      ],
      "text/plain": [
       "          Predicted 0  Predicted 1\n",
       "Actual 0           72           51\n",
       "Actual 1           43           85"
      ]
     },
     "execution_count": 28,
     "metadata": {},
     "output_type": "execute_result"
    }
   ],
   "source": [
    "from sklearn.svm import SVC\n",
    "svm = SVC()\n",
    "svm.fit(train_data,train_label)\n",
    "pred1 = svm.predict(valid_data)\n",
    "\n",
    "# Accuracy of the model\n",
    "print('Accuracy Score: \\n', accuracy_score(valid_label, pred1))\n",
    "\n",
    "# Evaluation Metrics: Classification report\n",
    "print(classification_report(valid_label, pred1))\n",
    "\n",
    "# Evaluation Metrics: Confusion Marix\n",
    "confusion_test1 = confusion_matrix(valid_label, pred1)\n",
    "pd.DataFrame(data = confusion_test1, columns = ['Predicted 0', 'Predicted 1'],\n",
    "            index = ['Actual 0', 'Actual 1'])\n"
   ]
  },
  {
   "cell_type": "code",
   "execution_count": 29,
   "metadata": {},
   "outputs": [
    {
     "name": "stdout",
     "output_type": "stream",
     "text": [
      "Accuracy Score: \n",
      " 0.5258964143426295\n",
      "              precision    recall  f1-score   support\n",
      "\n",
      "           0       0.51      0.58      0.54       123\n",
      "           1       0.54      0.48      0.51       128\n",
      "\n",
      "    accuracy                           0.53       251\n",
      "   macro avg       0.53      0.53      0.53       251\n",
      "weighted avg       0.53      0.53      0.52       251\n",
      "\n"
     ]
    },
    {
     "data": {
      "text/html": [
       "<div>\n",
       "<style scoped>\n",
       "    .dataframe tbody tr th:only-of-type {\n",
       "        vertical-align: middle;\n",
       "    }\n",
       "\n",
       "    .dataframe tbody tr th {\n",
       "        vertical-align: top;\n",
       "    }\n",
       "\n",
       "    .dataframe thead th {\n",
       "        text-align: right;\n",
       "    }\n",
       "</style>\n",
       "<table border=\"1\" class=\"dataframe\">\n",
       "  <thead>\n",
       "    <tr style=\"text-align: right;\">\n",
       "      <th></th>\n",
       "      <th>Predicted 0</th>\n",
       "      <th>Predicted 1</th>\n",
       "    </tr>\n",
       "  </thead>\n",
       "  <tbody>\n",
       "    <tr>\n",
       "      <th>Actual 0</th>\n",
       "      <td>71</td>\n",
       "      <td>52</td>\n",
       "    </tr>\n",
       "    <tr>\n",
       "      <th>Actual 1</th>\n",
       "      <td>67</td>\n",
       "      <td>61</td>\n",
       "    </tr>\n",
       "  </tbody>\n",
       "</table>\n",
       "</div>"
      ],
      "text/plain": [
       "          Predicted 0  Predicted 1\n",
       "Actual 0           71           52\n",
       "Actual 1           67           61"
      ]
     },
     "execution_count": 29,
     "metadata": {},
     "output_type": "execute_result"
    }
   ],
   "source": [
    "from sklearn.tree import DecisionTreeClassifier\n",
    "#dt = DecisionTreeClassifier(criterion = \"entropy\", random_state = 100,max_depth=3, min_samples_leaf=5)\n",
    "dt = DecisionTreeClassifier()\n",
    "dt.fit(train_data,train_label)\n",
    "pred2 = dt.predict(valid_data)\n",
    "\n",
    "# Accuracy of the model\n",
    "print('Accuracy Score: \\n', accuracy_score(valid_label, pred2))\n",
    "\n",
    "# Evaluation Metrics: Classification report\n",
    "print(classification_report(valid_label, pred2))\n",
    "\n",
    "# Evaluation Metrics: Confusion Marix\n",
    "confusion_test2 = confusion_matrix(valid_label, pred2)\n",
    "pd.DataFrame(data = confusion_test2, columns = ['Predicted 0', 'Predicted 1'],\n",
    "            index = ['Actual 0', 'Actual 1'])\n"
   ]
  },
  {
   "cell_type": "code",
   "execution_count": 30,
   "metadata": {},
   "outputs": [
    {
     "data": {
      "text/plain": [
       "GridSearchCV(cv=None, error_score=nan,\n",
       "             estimator=SVC(C=1.0, break_ties=False, cache_size=200,\n",
       "                           class_weight=None, coef0=0.0,\n",
       "                           decision_function_shape='ovr', degree=3,\n",
       "                           gamma='scale', kernel='rbf', max_iter=-1,\n",
       "                           probability=False, random_state=None, shrinking=True,\n",
       "                           tol=0.001, verbose=False),\n",
       "             iid='deprecated', n_jobs=None,\n",
       "             param_grid={'gamma': [1.0, 0.1, 0.01, 0.001, 0.0001],\n",
       "                         'kernel': ['rbf']},\n",
       "             pre_dispatch='2*n_jobs', refit=True, return_train_score=False,\n",
       "             scoring=None, verbose=0)"
      ]
     },
     "execution_count": 30,
     "metadata": {},
     "output_type": "execute_result"
    }
   ],
   "source": [
    "from sklearn.model_selection import GridSearchCV \n",
    "  \n",
    "# defining parameter range for SVM\n",
    "param_grid = {'gamma': [ 1.0, 0.1,0.01, 0.001, 0.0001], \n",
    "              'kernel': ['rbf']}  \n",
    "  \n",
    "grid = GridSearchCV(SVC(), param_grid, refit = True) \n",
    "  \n",
    "# fitting the model for grid search \n",
    "grid.fit(train_data, train_label) "
   ]
  },
  {
   "cell_type": "code",
   "execution_count": 31,
   "metadata": {},
   "outputs": [
    {
     "name": "stdout",
     "output_type": "stream",
     "text": [
      "Accuracy Score: \n",
      " 0.6135458167330677\n",
      "              precision    recall  f1-score   support\n",
      "\n",
      "           0       0.62      0.56      0.59       123\n",
      "           1       0.61      0.66      0.64       128\n",
      "\n",
      "    accuracy                           0.61       251\n",
      "   macro avg       0.61      0.61      0.61       251\n",
      "weighted avg       0.61      0.61      0.61       251\n",
      "\n"
     ]
    },
    {
     "data": {
      "text/html": [
       "<div>\n",
       "<style scoped>\n",
       "    .dataframe tbody tr th:only-of-type {\n",
       "        vertical-align: middle;\n",
       "    }\n",
       "\n",
       "    .dataframe tbody tr th {\n",
       "        vertical-align: top;\n",
       "    }\n",
       "\n",
       "    .dataframe thead th {\n",
       "        text-align: right;\n",
       "    }\n",
       "</style>\n",
       "<table border=\"1\" class=\"dataframe\">\n",
       "  <thead>\n",
       "    <tr style=\"text-align: right;\">\n",
       "      <th></th>\n",
       "      <th>Predicted 0</th>\n",
       "      <th>Predicted 1</th>\n",
       "    </tr>\n",
       "  </thead>\n",
       "  <tbody>\n",
       "    <tr>\n",
       "      <th>Actual 0</th>\n",
       "      <td>69</td>\n",
       "      <td>54</td>\n",
       "    </tr>\n",
       "    <tr>\n",
       "      <th>Actual 1</th>\n",
       "      <td>43</td>\n",
       "      <td>85</td>\n",
       "    </tr>\n",
       "  </tbody>\n",
       "</table>\n",
       "</div>"
      ],
      "text/plain": [
       "          Predicted 0  Predicted 1\n",
       "Actual 0           69           54\n",
       "Actual 1           43           85"
      ]
     },
     "execution_count": 31,
     "metadata": {},
     "output_type": "execute_result"
    }
   ],
   "source": [
    "from sklearn.metrics import classification_report, confusion_matrix \n",
    "grid_predictions = grid.predict(valid_data) \n",
    "\n",
    "# Accuracy of the model\n",
    "print('Accuracy Score: \\n', accuracy_score(valid_label, grid_predictions))\n",
    "\n",
    "# Evaluation Metrics: Classification report\n",
    "print(classification_report(valid_label, grid_predictions))\n",
    "\n",
    "# Evaluation Metrics: Confusion Marix\n",
    "confusion_test1 = confusion_matrix(valid_label, grid_predictions)\n",
    "pd.DataFrame(data = confusion_test1, columns = ['Predicted 0', 'Predicted 1'],\n",
    "            index = ['Actual 0', 'Actual 1'])\n"
   ]
  },
  {
   "cell_type": "code",
   "execution_count": 35,
   "metadata": {},
   "outputs": [
    {
     "name": "stdout",
     "output_type": "stream",
     "text": [
      "20  image data retreived\n",
      "40  image data retreived\n",
      "60  image data retreived\n",
      "80  image data retreived\n",
      "100  image data retreived\n",
      "(100, 12288)\n"
     ]
    }
   ],
   "source": [
    "## Test data\n",
    "test_data=[]\n",
    "id=[]\n",
    "counter=0\n",
    "\n",
    "# Read the test directory from local system\n",
    "path=\"D:\\\\CIT\\\\Semester 2\\\\Applied Machine Learning\\\\Assignment 3\\\\Project3_files\\\\Project3_files\\\\data\\\\test\"\n",
    "for file in os.listdir(path):\n",
    "     # read the image using openCv\n",
    "    image_data=cv2.imread(os.path.join(path,file))\n",
    "    # resizing the images into equal sizes\n",
    "    image_data=cv2.resize(image_data,(64,64)).flatten()\n",
    "    try:\n",
    "        test_data.append(image_data/255)\n",
    "        id.append((file.split(\".\"))[0])\n",
    "    except:\n",
    "        print (\"One eliminated\")\n",
    "    counter+=1\n",
    "    if counter%20==0:\n",
    "        print(counter,\" image data retreived\")\n",
    "test_data1=np.array(test_data)\n",
    "print (test_data1.shape)"
   ]
  },
  {
   "cell_type": "code",
   "execution_count": 39,
   "metadata": {},
   "outputs": [
    {
     "name": "stdout",
     "output_type": "stream",
     "text": [
      "[0 0 0 0 1 0 1 1 0 0 1 1 1 0 0 0 1 1 0 0 1 0 1 1 1 1 1 1 0 0 1 0 0 1 1 0 0\n",
      " 1 1 0 1 1 0 1 1 0 1 1 0 1 0 0 1 1 0 1 1 0 0 1 0 0 1 1 1 0 1 0 0 0 0 1 1 0\n",
      " 0 0 0 0 0 0 1 0 1 0 1 1 1 1 0 1 0 1 1 0 1 0 0 0 1 0]\n"
     ]
    }
   ],
   "source": [
    "# Prediction on test data\n",
    "grid_pred_test = grid.predict(test_data1) \n",
    "print(grid_pred_test)"
   ]
  },
  {
   "cell_type": "code",
   "execution_count": null,
   "metadata": {},
   "outputs": [],
   "source": []
  }
 ],
 "metadata": {
  "kernelspec": {
   "display_name": "Python 3",
   "language": "python",
   "name": "python3"
  },
  "language_info": {
   "codemirror_mode": {
    "name": "ipython",
    "version": 3
   },
   "file_extension": ".py",
   "mimetype": "text/x-python",
   "name": "python",
   "nbconvert_exporter": "python",
   "pygments_lexer": "ipython3",
   "version": "3.7.3"
  }
 },
 "nbformat": 4,
 "nbformat_minor": 2
}
